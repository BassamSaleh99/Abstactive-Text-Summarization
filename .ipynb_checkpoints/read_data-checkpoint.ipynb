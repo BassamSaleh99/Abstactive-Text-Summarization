{
 "cells": [
  {
   "cell_type": "code",
   "execution_count": 24,
   "id": "5b8f246e-57eb-47fb-b033-bb0a77d594ae",
   "metadata": {},
   "outputs": [],
   "source": [
    "import pandas as pd\n",
    "import numpy as np"
   ]
  },
  {
   "cell_type": "code",
   "execution_count": 2,
   "id": "b6a1983a-4ca0-4f89-b19d-b4c54aad9610",
   "metadata": {},
   "outputs": [
    {
     "name": "stdout",
     "output_type": "stream",
     "text": [
      "Using GPU: PhysicalDevice(name='/physical_device:GPU:0', device_type='GPU')\n"
     ]
    }
   ],
   "source": [
    "# Check if there are available GPU devices\n",
    "import tensorflow as tf\n",
    "gpus = tf.config.list_physical_devices('GPU')\n",
    "if gpus:\n",
    "    try:\n",
    "        for gpu in gpus:\n",
    "            tf.config.experimental.set_memory_growth(gpu, True)\n",
    "        tf.config.set_visible_devices(gpus[0], 'GPU')\n",
    "        print(f\"Using GPU: {gpus[0]}\")\n",
    "    except RuntimeError as e:\n",
    "        print(e)"
   ]
  },
  {
   "cell_type": "code",
   "execution_count": 3,
   "id": "30c41f01-b941-432e-906c-1d55be7a6acf",
   "metadata": {},
   "outputs": [],
   "source": [
    "# data = pd.read_csv(r\"D:\\projects\\Abstactive Text Summarization\\archive\\data.csv\")\n",
    "\n",
    "# Read the first 10,000 rows  beacuse its a amassive data\n",
    "data = pd.read_csv(r\"D:\\projects\\Abstactive Text Summarization\\archive\\data.csv\", nrows=10000)"
   ]
  },
  {
   "cell_type": "code",
   "execution_count": 4,
   "id": "b3b8da1b-db75-4ce6-924a-fa44da1adb3d",
   "metadata": {},
   "outputs": [],
   "source": [
    "# Create a copy of the dataset to avoid modifying the original data\n",
    "df = data.copy()"
   ]
  },
  {
   "cell_type": "code",
   "execution_count": 5,
   "id": "6d9a9c4c-c2e8-4ef8-8d18-0eeba1c5509a",
   "metadata": {},
   "outputs": [
    {
     "name": "stdout",
     "output_type": "stream",
     "text": [
      "Unnamed: 0      0\n",
      "ID            643\n",
      "Content         0\n",
      "Summary         0\n",
      "Dataset         0\n",
      "dtype: int64\n"
     ]
    }
   ],
   "source": [
    "# Count of missing values per column\n",
    "print(df.isnull().sum())"
   ]
  },
  {
   "cell_type": "code",
   "execution_count": 6,
   "id": "ad1ca3d2-1c0f-432b-856d-25bbb678964e",
   "metadata": {},
   "outputs": [],
   "source": [
    "# Delete rows where Content is NaN\n",
    "df = df.dropna(subset=['Content'])"
   ]
  },
  {
   "cell_type": "code",
   "execution_count": 7,
   "id": "ddd8de5c-bb87-4188-b685-7e715eeaa4e0",
   "metadata": {},
   "outputs": [],
   "source": [
    "# Reset index after deletion\n",
    "df.reset_index(drop=True, inplace=True)"
   ]
  },
  {
   "cell_type": "code",
   "execution_count": 8,
   "id": "9453b6a6-1de3-4593-baa5-f1d285b95d5b",
   "metadata": {},
   "outputs": [
    {
     "name": "stdout",
     "output_type": "stream",
     "text": [
      "Unnamed: 0      0\n",
      "ID            643\n",
      "Content         0\n",
      "Summary         0\n",
      "Dataset         0\n",
      "dtype: int64\n"
     ]
    }
   ],
   "source": [
    "print(df.isnull().sum())"
   ]
  },
  {
   "cell_type": "code",
   "execution_count": 9,
   "id": "2c8c8006-6909-45c5-b20e-00b2d1913bc6",
   "metadata": {},
   "outputs": [
    {
     "name": "stdout",
     "output_type": "stream",
     "text": [
      "<class 'pandas.core.frame.DataFrame'>\n",
      "RangeIndex: 10000 entries, 0 to 9999\n",
      "Data columns (total 5 columns):\n",
      " #   Column      Non-Null Count  Dtype \n",
      "---  ------      --------------  ----- \n",
      " 0   Unnamed: 0  10000 non-null  int64 \n",
      " 1   ID          9357 non-null   object\n",
      " 2   Content     10000 non-null  object\n",
      " 3   Summary     10000 non-null  object\n",
      " 4   Dataset     10000 non-null  object\n",
      "dtypes: int64(1), object(4)\n",
      "memory usage: 390.8+ KB\n"
     ]
    }
   ],
   "source": [
    "df.info()"
   ]
  },
  {
   "cell_type": "code",
   "execution_count": 10,
   "id": "93e1c2a4-1f4c-4d15-ba0f-93e22ba34fb2",
   "metadata": {},
   "outputs": [],
   "source": [
    "# Remove any duplicated rows to clean the data\n",
    "df.drop_duplicates(inplace = True)"
   ]
  },
  {
   "cell_type": "code",
   "execution_count": 11,
   "id": "d6c4ee7d-2f0c-4214-846f-64dd0a1e7da0",
   "metadata": {},
   "outputs": [
    {
     "data": {
      "text/plain": [
       "Index(['Unnamed: 0', 'ID', 'Content', 'Summary', 'Dataset'], dtype='object')"
      ]
     },
     "execution_count": 11,
     "metadata": {},
     "output_type": "execute_result"
    }
   ],
   "source": [
    "df.columns"
   ]
  },
  {
   "cell_type": "code",
   "execution_count": 12,
   "id": "58940408-7e14-45f4-bc18-3e5b1c52eebf",
   "metadata": {},
   "outputs": [
    {
     "data": {
      "text/html": [
       "<div>\n",
       "<style scoped>\n",
       "    .dataframe tbody tr th:only-of-type {\n",
       "        vertical-align: middle;\n",
       "    }\n",
       "\n",
       "    .dataframe tbody tr th {\n",
       "        vertical-align: top;\n",
       "    }\n",
       "\n",
       "    .dataframe thead th {\n",
       "        text-align: right;\n",
       "    }\n",
       "</style>\n",
       "<table border=\"1\" class=\"dataframe\">\n",
       "  <thead>\n",
       "    <tr style=\"text-align: right;\">\n",
       "      <th></th>\n",
       "      <th>Unnamed: 0</th>\n",
       "      <th>ID</th>\n",
       "      <th>Content</th>\n",
       "      <th>Summary</th>\n",
       "      <th>Dataset</th>\n",
       "    </tr>\n",
       "  </thead>\n",
       "  <tbody>\n",
       "    <tr>\n",
       "      <th>0</th>\n",
       "      <td>0</td>\n",
       "      <td>f49ee725a0360aa6881ed1f7999cc531885dd06a</td>\n",
       "      <td>New York police are concerned drones could bec...</td>\n",
       "      <td>Police have investigated criminals who have ri...</td>\n",
       "      <td>CNN/Daily Mail</td>\n",
       "    </tr>\n",
       "    <tr>\n",
       "      <th>1</th>\n",
       "      <td>1</td>\n",
       "      <td>808fe317a53fbd3130c9b7563341a7eea6d15e94</td>\n",
       "      <td>By . Ryan Lipman . Perhaps Australian porn sta...</td>\n",
       "      <td>Porn star Angela White secretly filmed sex act...</td>\n",
       "      <td>CNN/Daily Mail</td>\n",
       "    </tr>\n",
       "    <tr>\n",
       "      <th>2</th>\n",
       "      <td>2</td>\n",
       "      <td>98fd67bd343e58bc4e275bbb5a4ea454ec827c0d</td>\n",
       "      <td>This was, Sergio Garcia conceded, much like be...</td>\n",
       "      <td>American draws inspiration from fellow country...</td>\n",
       "      <td>CNN/Daily Mail</td>\n",
       "    </tr>\n",
       "    <tr>\n",
       "      <th>3</th>\n",
       "      <td>3</td>\n",
       "      <td>e12b5bd7056287049d9ec98e41dbb287bd19a981</td>\n",
       "      <td>An Ebola outbreak that began in Guinea four mo...</td>\n",
       "      <td>World Health Organisation: 635 infections and ...</td>\n",
       "      <td>CNN/Daily Mail</td>\n",
       "    </tr>\n",
       "    <tr>\n",
       "      <th>4</th>\n",
       "      <td>4</td>\n",
       "      <td>b83e8bcfcd51419849160e789b6658b21a9aedcd</td>\n",
       "      <td>By . Associated Press and Daily Mail Reporter ...</td>\n",
       "      <td>A sinkhole opened up at 5:15am this morning in...</td>\n",
       "      <td>CNN/Daily Mail</td>\n",
       "    </tr>\n",
       "  </tbody>\n",
       "</table>\n",
       "</div>"
      ],
      "text/plain": [
       "   Unnamed: 0                                        ID  \\\n",
       "0           0  f49ee725a0360aa6881ed1f7999cc531885dd06a   \n",
       "1           1  808fe317a53fbd3130c9b7563341a7eea6d15e94   \n",
       "2           2  98fd67bd343e58bc4e275bbb5a4ea454ec827c0d   \n",
       "3           3  e12b5bd7056287049d9ec98e41dbb287bd19a981   \n",
       "4           4  b83e8bcfcd51419849160e789b6658b21a9aedcd   \n",
       "\n",
       "                                             Content  \\\n",
       "0  New York police are concerned drones could bec...   \n",
       "1  By . Ryan Lipman . Perhaps Australian porn sta...   \n",
       "2  This was, Sergio Garcia conceded, much like be...   \n",
       "3  An Ebola outbreak that began in Guinea four mo...   \n",
       "4  By . Associated Press and Daily Mail Reporter ...   \n",
       "\n",
       "                                             Summary         Dataset  \n",
       "0  Police have investigated criminals who have ri...  CNN/Daily Mail  \n",
       "1  Porn star Angela White secretly filmed sex act...  CNN/Daily Mail  \n",
       "2  American draws inspiration from fellow country...  CNN/Daily Mail  \n",
       "3  World Health Organisation: 635 infections and ...  CNN/Daily Mail  \n",
       "4  A sinkhole opened up at 5:15am this morning in...  CNN/Daily Mail  "
      ]
     },
     "execution_count": 12,
     "metadata": {},
     "output_type": "execute_result"
    }
   ],
   "source": [
    "df.head()"
   ]
  },
  {
   "cell_type": "code",
   "execution_count": 13,
   "id": "7911d7a6-5484-4010-8a8e-ab68f14c07e6",
   "metadata": {},
   "outputs": [],
   "source": [
    "# Drop unnecessary columns\n",
    "df = df.drop([\"Unnamed: 0\",\"ID\",\"Dataset\"],axis=1)"
   ]
  },
  {
   "cell_type": "code",
   "execution_count": 14,
   "id": "a54c390a-97f9-4f12-a5ad-c5a7d922bcd2",
   "metadata": {},
   "outputs": [
    {
     "data": {
      "text/html": [
       "<div>\n",
       "<style scoped>\n",
       "    .dataframe tbody tr th:only-of-type {\n",
       "        vertical-align: middle;\n",
       "    }\n",
       "\n",
       "    .dataframe tbody tr th {\n",
       "        vertical-align: top;\n",
       "    }\n",
       "\n",
       "    .dataframe thead th {\n",
       "        text-align: right;\n",
       "    }\n",
       "</style>\n",
       "<table border=\"1\" class=\"dataframe\">\n",
       "  <thead>\n",
       "    <tr style=\"text-align: right;\">\n",
       "      <th></th>\n",
       "      <th>Content</th>\n",
       "      <th>Summary</th>\n",
       "    </tr>\n",
       "  </thead>\n",
       "  <tbody>\n",
       "    <tr>\n",
       "      <th>0</th>\n",
       "      <td>New York police are concerned drones could bec...</td>\n",
       "      <td>Police have investigated criminals who have ri...</td>\n",
       "    </tr>\n",
       "    <tr>\n",
       "      <th>1</th>\n",
       "      <td>By . Ryan Lipman . Perhaps Australian porn sta...</td>\n",
       "      <td>Porn star Angela White secretly filmed sex act...</td>\n",
       "    </tr>\n",
       "    <tr>\n",
       "      <th>2</th>\n",
       "      <td>This was, Sergio Garcia conceded, much like be...</td>\n",
       "      <td>American draws inspiration from fellow country...</td>\n",
       "    </tr>\n",
       "    <tr>\n",
       "      <th>3</th>\n",
       "      <td>An Ebola outbreak that began in Guinea four mo...</td>\n",
       "      <td>World Health Organisation: 635 infections and ...</td>\n",
       "    </tr>\n",
       "    <tr>\n",
       "      <th>4</th>\n",
       "      <td>By . Associated Press and Daily Mail Reporter ...</td>\n",
       "      <td>A sinkhole opened up at 5:15am this morning in...</td>\n",
       "    </tr>\n",
       "  </tbody>\n",
       "</table>\n",
       "</div>"
      ],
      "text/plain": [
       "                                             Content  \\\n",
       "0  New York police are concerned drones could bec...   \n",
       "1  By . Ryan Lipman . Perhaps Australian porn sta...   \n",
       "2  This was, Sergio Garcia conceded, much like be...   \n",
       "3  An Ebola outbreak that began in Guinea four mo...   \n",
       "4  By . Associated Press and Daily Mail Reporter ...   \n",
       "\n",
       "                                             Summary  \n",
       "0  Police have investigated criminals who have ri...  \n",
       "1  Porn star Angela White secretly filmed sex act...  \n",
       "2  American draws inspiration from fellow country...  \n",
       "3  World Health Organisation: 635 infections and ...  \n",
       "4  A sinkhole opened up at 5:15am this morning in...  "
      ]
     },
     "execution_count": 14,
     "metadata": {},
     "output_type": "execute_result"
    }
   ],
   "source": [
    "df.head()"
   ]
  },
  {
   "cell_type": "code",
   "execution_count": 15,
   "id": "ce65c549-8ca5-4375-a7ed-b08e71491d73",
   "metadata": {},
   "outputs": [],
   "source": [
    "import re\n",
    "import unicodedata\n",
    "import contractions\n",
    "import logging\n",
    "from nltk.corpus import stopwords\n",
    "\n",
    "# Initialize logging to capture any warnings\n",
    "logging.basicConfig(level=logging.WARNING)\n",
    "\n",
    "# Load English stopwords from NLTK library\n",
    "stop_words = set(stopwords.words('english'))\n",
    "\n",
    "def text_cleaner(text, num):\n",
    "    \n",
    "    newString = text.lower()\n",
    "\n",
    "    # Remove any content within parentheses \n",
    "    newString = re.sub(r'\\([^)]*\\)', '', newString)\n",
    "\n",
    "    # Remove double quotes from the text\n",
    "    newString = re.sub('\"', '', newString)\n",
    "\n",
    "    # Expand contractions \n",
    "    newString = contractions.fix(newString)\n",
    "\n",
    "    # Remove possessive 's \n",
    "    newString = re.sub(r\"'s\\b\", \"\", newString)\n",
    "\n",
    "    # Normalize unicode characters to their closest ASCII equivalent\n",
    "    newString = unicodedata.normalize('NFKD', newString).encode('ascii', 'ignore').decode('utf-8', 'ignore')\n",
    "\n",
    "    # Remove URLs \n",
    "    newString = re.sub(r'https?://\\S+|www\\.\\S+', '', newString)\n",
    "\n",
    "    # Remove non-alphabetical characters\n",
    "    newString = re.sub(\"[^a-zA-Z]\", \" \", newString)\n",
    "\n",
    "    # Normalize repeated characters\n",
    "    newString = re.sub(r'(.)\\1{2,}', r'\\1\\1', newString)\n",
    "\n",
    "    # Remove newlines and excessive spaces\n",
    "    newString = re.sub(r'\\s+', ' ', newString).strip()\n",
    "\n",
    "    # Split the text into tokens (words)\n",
    "    tokens = newString.split()\n",
    "\n",
    "    # remove stopwords from the tokens list\n",
    "    if num == 0:\n",
    "        tokens = [w for w in tokens if w not in stop_words]\n",
    "\n",
    "    # Keep words with more than one character, but keep \"a\" and \"i\"\n",
    "    long_words = [w for w in tokens if len(w) > 1 or w in ['a', 'i']]\n",
    "\n",
    "    # Return the cleaned text as a space-separated string\n",
    "    return ' '.join(long_words)\n"
   ]
  },
  {
   "cell_type": "code",
   "execution_count": 16,
   "id": "98a8b6e2-ca59-46c4-bfd5-d57e9727ed34",
   "metadata": {},
   "outputs": [],
   "source": [
    " # Clean the text using the 'text_cleaner' function and append the cleaned text to the list\n",
    "cleaned_text = []\n",
    "for t in df['Content']:\n",
    "    cleaned_text.append(text_cleaner(t,0))"
   ]
  },
  {
   "cell_type": "code",
   "execution_count": 17,
   "id": "2d8ff72b-f774-471e-a5cf-bc0b844c059b",
   "metadata": {},
   "outputs": [
    {
     "data": {
      "text/plain": [
       "['new york police concerned drones could become tools terrorists investigating ways stop potential attacks police acknowledged drones potential weapon nypd said technology advanced enough someone could use carry air assault using chemical weapons firearms police want develop technology allow take control drones well scan skies major events nypd says drones carrying explosives number one threat investigate ways stop attacks deputy chief salvatore dipace left concerned incident last year drone landed front german chancellor angela merkel could took chancellor people drone flown packed football stadium manchester england week ago resulting suspected pilot arrested consulting military members counterterrorism bomb squad emergency services aviation units working plan counter weaponized drones nypd received intelligence indicating imminent threat become increasingly concerned last year deputy chief salvatore dipace told cbs news looked people jury rigged drones carry guns carry different types explosives wanted many possibilities worried mr dipace said police also seen video showing accurate attack drone could seen video drone flying different targets along route accurately hitting targets paintball nypd sees drone carrying explosives number one threat mr dipace concerns follow incident germany last year drone able land front german chancellor angela merkel delivered speech drone circled landed front ms merkel delivered speech sin germany sparking fears device could easily used commit terrorist act said really think could happened drone hit target right mark could took chancellor people dramatic increase incidents involving drones new york city last year recorded cases unmanned aircraft systems drones flown airspace used nypd helicopters one incident summer drone almost feet ground nearly collided police helicopter nypd aviation unit member sergeant antonio hernandez said flying dark night vision goggles trying get job done next thing know see drone come altitude',\n",
       " 'ryan lipman perhaps australian porn star angela white thought bringing ultimate steamy study fantasy life partner secretly filmed sex acts library la trobe university melbourne video believed shot year library open use sparked outrage university ire police despite presence nearby students white starts video revealing bookshelves reported herald sun raunchy angela white partner secretly filmed sex acts library la trobe university melbourne white onscreen lover move nearby desks partner keeping lookout la trobe university spokesman said shocked appalled brazen act knew nothing video footage recently informed students permission sought would given requested would assist fully police investigation victoria police spokeswoman said pair caught act could faced charges including wilful obscene exposure brazen act la trobe unaware video filmed left outraged embarrassment back controversy whiteaTMs dutch based production company agw entertainment issued statement addressing incident since removed video published online agw entertainment regrets filming posting video question may offended members public',\n",
       " 'sergio garcia conceded much like hunted tiger complete roars provided first sign danger time rory mcilroy terrorising two golfers ahead mcilroy drawing deafening applause crowds group behind garcia rickie fowler made final holes dramatic third round hoylake torturous fowler dropped shot third bogey four holes mcilroy could heard making eagle adjacent th pressure sergio garcia rickie fowler third round saturday american spaniard made way across third fairway scorer tent came another roar yet another eagle ulsterman fowler birdied even failed stop gap first second widening defending champion phil mickelson felt missed good opportunity move leaderboard day three mickelson among day first starters teeing failed take advantage unexpectedly good conditions lefthander fired lie shots behind leader rory mcilroy overnight said beautiful scoring conditions first group could shot seven eight nine par probably easy seen course play could made noise could lot lower let lot shots slide mickelson came field win final round muirfield last year opened rounds garcia admitted afterwards playing mcilroy kind form daunting waging war woods prime almost futile exercise however well chasing pack might playing think rory consistent tiger many years best right said garcia obviously heard roar know imagined eagle thing say well done fowler proved particularly galling tearing course near perfect conditions going turn birdying erase six shot advantage mcilroy taken third round came crushing run bogies emphatic mcilroy response fowler nevertheless take encouragement fact six shot lead mcilroy afternoon closed holes yesterday also draw comfort knowing two professional wins date achieved mcilroy runner first victory wells fargo championship two years ago came beating mcilroy first extra hole sudden death play add benefit much position us open last month mention confidence already finished top five majors year fowler goes final pairing today decent shape feel force rickie fowler tees th hole hoylake saturday advice gets phil mickleson someone referred affectionately golf dad also sure come handy better mentor last year open champion learned lot phil said fowler kind like hate say like dad lot fun around playing tuesday dinner seeing operates golf course thanks work past year butch harmon coach fowler described best world young american itting irons superbly times putted beautifully sinking one around feet second hole garcia approach eighth also worthy mention even want forget two half foot putt missed garcia thinks tall order catching mcilroy shoots three shoot said smile rory plays way playing difficult see anybody catching rory plays well every course suits really lot weaknesses game swing american rickie fowler hitting irons superbly fowler knows grown competing mcilroy months apart age actually good friends well neighbours jupiter florida also penchant brightly covered clothing even mcilroy joked week fowler fashion sense wear orange olklahoma state university today highly questionable travelled bit together tournaments said fowler first played walker cup kind gone looking forward tomorrow going good time good buddies time want beat bad possible go put bit pressure make earn bit get mix maybe able throw blows back forth us open last month first time final group major matter time two us found way sneak final group together',\n",
       " 'ebola outbreak began guinea four months ago turned cross border african crisis could spread countries world health organisation warned last night despite efforts health authorities aid groups contain spread recorded infections including deaths guinea sierra leone liberia since outbreak started crisis already deadliest outbreak since ebola first emerged central africa number infections continues rise calling drastic action halt epidemic scroll video aid staff medecins sans frontieres sitting isolation ward donka hospital conakry guinea people infected ebola virus treated cleanliness guinean women washing hands entrance sino guinean hospital kipe ratoma municipality first person infected ebola virus treated conakry campsite isolation ward donka hospital conakry people infected ebola virus treated luis sambo regional director africa said longer country specific outbreak sub regional crisis requires firm action governments partners gravely concerned going cross border transmission neighbouring countries well potential international spread response worsening crisis said convene special meeting health ministers countries ghana july develop inter country response plan ebola fatality rate per cent vaccine known cure previously occurred west africa region people become frightened health facilities blaming importing spreading virus guidance liberian unicef field worker reads ebola information poster prevention ebola epidemic meeting mission today holy church newkru town monrovia liberia guidance notice liberian woman reads information poster prevention ebola epidemic medical response liberian nurse walks past poster illustrating steps nurses put protective clothing displayed redemption hospital nurse reportedly died ebola virus monrovia abandoned empty hospital beds seen redemption nurses patients fled due ebola deaths ebola virus initially causes raging fever headaches muscle pain conjunctivitis weakness moving severe phases vomiting diarrhoea internal external haemorrhaging longer country specific outbreak sub regional crisis requires firm action governments partners luis sambo world health organisation mr sambo said urgent need intensify response efforts promote cross border collaboration information sharing suspected cases contacts mobilise sectors community way outbreak effectively addressed medical charity medecins sans frontieres said week lack understanding meant people continue prepare corpses attend funerals victims leaving vulnerable disease transmitted touching victims via bodily fluids msf accused civil society groups governments religious authorities failing acknowledge scale epidemic resulting prominent figures promoting fight disease',\n",
       " 'associated press daily mail reporter published est november updated est november residents several florida homes evacuated due sinkhole opened dunedin florida backyard near st petersburg thursday dunedin deputy fire chief trip barrs said hole appeared feet wide officials arrived scene around grew feet wide feet deep residents seven neighboring houses evacuated precaution power shut area injuries reported scroll video earth sinkhole opened morning dunedin florida swallowing parts two homes expanding fire rescue responders arrived scene around sinkhole feet wide soon grew feet wide feet deep breakfast sinkhole gobbled boat pool one home master bedroom one injured sinkhole homeowner michael dupre said heard sinkhole open backyard around morning sounded like banging windows thought someone trying break daughter ivy dupre told fox ivy dupre said seemed two sinkholes one opened backyard one near bedroom yet confirmed fire rescue officials sinkhole swallowed master bedroom ground pool one home another home lost deck boat sinkhole opened dupre called fire rescue officials told grab whatever could get home sinkhole alley sinkholes common area florida nicknamed sinkhole alley type porous rocks earth shift grabbed important stuff insurance information stuff like mr dupre said really think kind stuff happening sinkholes common florida peninsula made porous carbonate rocks limestone store help move water underground time rocks dissolve acid created oxygen water creating void limestone roof dirt clay sand gets heavy limestone roof collapse creating sinkhole february jeffrey bush died sinkhole opened bedroom seffner florida near tampa body never recovered august sections building resort near orlando collapsed sinkhole one injured sinkhole early morning surprise according homeowners area sinkhole opened morning seffner sinkhole scared mr dupre told wtsp dealing insurance company finally two days ago started working house looks like house gone state officials say three counties tampa region known sinkhole alley two thirds sinkhole damage claims reported state office insurance regulation came hernando hillsborough pasco counties dunedin neighboring pinellas county']"
      ]
     },
     "execution_count": 17,
     "metadata": {},
     "output_type": "execute_result"
    }
   ],
   "source": [
    "cleaned_text[:5]"
   ]
  },
  {
   "cell_type": "code",
   "execution_count": 18,
   "id": "bf563a15-5ab4-488b-aad6-510329509264",
   "metadata": {},
   "outputs": [],
   "source": [
    " # Clean the summary using the 'text_cleaner' function and append the cleaned summary to the list\n",
    "cleaned_summary = []\n",
    "for t in df['Summary']:\n",
    "    cleaned_summary.append(text_cleaner(t,1))"
   ]
  },
  {
   "cell_type": "code",
   "execution_count": 19,
   "id": "734c1556-2a3e-4dc2-9b2a-849f3c5c4026",
   "metadata": {},
   "outputs": [
    {
     "data": {
      "text/plain": [
       "['police have investigated criminals who have rigged guns to drones and are working with the military to develop technology to stop attacks incidents involving drones have drastically increased in new york city last year a drone was landed in front of german chancellor angela merkel',\n",
       " 'porn star angela white secretly filmed sex acts with a partner in a university library the university was unaware of the video and has been left outraged police say white and onscreen partner could have faced charges if caught in the act the video was published online but has since been removed white dutch production company has issued an apology',\n",
       " 'american draws inspiration from fellow countryman in open bid fowler closed a six shot lead in holes on saturday sergio garcia admits rory mcilroy will be hard to catch',\n",
       " 'world health organisation infections and deaths since outbreak began in guinea in february and has spread to sierra leone and liberia deadliest outbreak since ebola first emerged in central africa in the virus has no vaccine no known cure and a fatality rate of up to ebola causes vomiting diarrhoea and internal external haemorrhaging',\n",
       " 'a sinkhole opened up at am this morning in dunedin florida near st petersburg the sinkhole opened up between two homes and seven others have been evacuated since when fire and rescue crews arrived on the scene at am the hole was feet wide but grew to feet wide by am it is about feet deep no injuries have been reported',\n",
       " 'two palestinians carried out a deadly attack on a jerusalem synagogue this week israel later announced the homes of the attackers shot dead would be destroyed yossi mekelberg says such demolitions are immoral not proven to be effective he says the decision is aimed at satisfying an angry public and extreme right wing lawmakers',\n",
       " 'zia abdul haq is believed to be fighting in syria for the terror group friends say he is a good hearted guy who went to syria to find a wife the year old has a young son who was from a previous marriage abdul haq is from logan which is located south of brisbane he came to australia in his and was employed as a finance officer',\n",
       " 'jocelyn bennett awoke from coma to discover her twins had passed away year old spent days in coma after collapsing at her birmingham flat mix up meant it took paramedics about minutes to get into her building twins melody and rose born prematurely passed away just few days later ms bennett in a wheelchair joined dozens of mourners for their funeral',\n",
       " 'rahmat ali raja dishonestly claimed benefits for years the ex local councillor was awarded an mbe in for services to the community in pendle lancashire at one point the former magistrate had savings worth across nine bank accounts but he claimed he had just in order to claim the extra cash raja pleaded guilty to two counts of dishonestly failing to disclose information and said i made a mistake',\n",
       " 'house panel adds restrictions to stimulus bill after criticism from watchdog groups bill funding should go only to the highest quality infrastructure projects mayors group had endorsed projects including horse paths skate parks house could vote on billion stimulus package on wednesday']"
      ]
     },
     "execution_count": 19,
     "metadata": {},
     "output_type": "execute_result"
    }
   ],
   "source": [
    "cleaned_summary[:10]"
   ]
  },
  {
   "cell_type": "code",
   "execution_count": 20,
   "id": "f90c203b-1ea6-4a6e-a6a2-18f78401cb68",
   "metadata": {},
   "outputs": [],
   "source": [
    "# Assign the cleaned content to a new column called 'cleaned_text'\n",
    "df['cleaned_text'] = cleaned_text\n",
    "\n",
    "# Assign the cleaned summaries to a new column called 'cleaned_summary'\n",
    "df['cleaned_summary'] = cleaned_summary"
   ]
  },
  {
   "cell_type": "code",
   "execution_count": 25,
   "id": "303ea24f-ddbd-46db-a48f-954aaa1e87a8",
   "metadata": {},
   "outputs": [],
   "source": [
    "# Replace any empty strings in the DataFrame with NaN (missing values)\n",
    "df.replace('', np.nan, inplace=True)\n",
    "\n",
    "# Drop all rows where any column contains a NaN value (i.e., remove incomplete data)\n",
    "df.dropna(axis=0, inplace=True)"
   ]
  },
  {
   "cell_type": "code",
   "execution_count": 26,
   "id": "984e0d52-d195-4643-8150-252b90e9fc80",
   "metadata": {},
   "outputs": [
    {
     "data": {
      "text/html": [
       "<div>\n",
       "<style scoped>\n",
       "    .dataframe tbody tr th:only-of-type {\n",
       "        vertical-align: middle;\n",
       "    }\n",
       "\n",
       "    .dataframe tbody tr th {\n",
       "        vertical-align: top;\n",
       "    }\n",
       "\n",
       "    .dataframe thead th {\n",
       "        text-align: right;\n",
       "    }\n",
       "</style>\n",
       "<table border=\"1\" class=\"dataframe\">\n",
       "  <thead>\n",
       "    <tr style=\"text-align: right;\">\n",
       "      <th></th>\n",
       "      <th>Content</th>\n",
       "      <th>Summary</th>\n",
       "      <th>cleaned_text</th>\n",
       "      <th>cleaned_summary</th>\n",
       "    </tr>\n",
       "  </thead>\n",
       "  <tbody>\n",
       "    <tr>\n",
       "      <th>0</th>\n",
       "      <td>New York police are concerned drones could bec...</td>\n",
       "      <td>Police have investigated criminals who have ri...</td>\n",
       "      <td>new york police concerned drones could become ...</td>\n",
       "      <td>police have investigated criminals who have ri...</td>\n",
       "    </tr>\n",
       "    <tr>\n",
       "      <th>1</th>\n",
       "      <td>By . Ryan Lipman . Perhaps Australian porn sta...</td>\n",
       "      <td>Porn star Angela White secretly filmed sex act...</td>\n",
       "      <td>ryan lipman perhaps australian porn star angel...</td>\n",
       "      <td>porn star angela white secretly filmed sex act...</td>\n",
       "    </tr>\n",
       "    <tr>\n",
       "      <th>2</th>\n",
       "      <td>This was, Sergio Garcia conceded, much like be...</td>\n",
       "      <td>American draws inspiration from fellow country...</td>\n",
       "      <td>sergio garcia conceded much like hunted tiger ...</td>\n",
       "      <td>american draws inspiration from fellow country...</td>\n",
       "    </tr>\n",
       "    <tr>\n",
       "      <th>3</th>\n",
       "      <td>An Ebola outbreak that began in Guinea four mo...</td>\n",
       "      <td>World Health Organisation: 635 infections and ...</td>\n",
       "      <td>ebola outbreak began guinea four months ago tu...</td>\n",
       "      <td>world health organisation infections and death...</td>\n",
       "    </tr>\n",
       "    <tr>\n",
       "      <th>4</th>\n",
       "      <td>By . Associated Press and Daily Mail Reporter ...</td>\n",
       "      <td>A sinkhole opened up at 5:15am this morning in...</td>\n",
       "      <td>associated press daily mail reporter published...</td>\n",
       "      <td>a sinkhole opened up at am this morning in dun...</td>\n",
       "    </tr>\n",
       "  </tbody>\n",
       "</table>\n",
       "</div>"
      ],
      "text/plain": [
       "                                             Content  \\\n",
       "0  New York police are concerned drones could bec...   \n",
       "1  By . Ryan Lipman . Perhaps Australian porn sta...   \n",
       "2  This was, Sergio Garcia conceded, much like be...   \n",
       "3  An Ebola outbreak that began in Guinea four mo...   \n",
       "4  By . Associated Press and Daily Mail Reporter ...   \n",
       "\n",
       "                                             Summary  \\\n",
       "0  Police have investigated criminals who have ri...   \n",
       "1  Porn star Angela White secretly filmed sex act...   \n",
       "2  American draws inspiration from fellow country...   \n",
       "3  World Health Organisation: 635 infections and ...   \n",
       "4  A sinkhole opened up at 5:15am this morning in...   \n",
       "\n",
       "                                        cleaned_text  \\\n",
       "0  new york police concerned drones could become ...   \n",
       "1  ryan lipman perhaps australian porn star angel...   \n",
       "2  sergio garcia conceded much like hunted tiger ...   \n",
       "3  ebola outbreak began guinea four months ago tu...   \n",
       "4  associated press daily mail reporter published...   \n",
       "\n",
       "                                     cleaned_summary  \n",
       "0  police have investigated criminals who have ri...  \n",
       "1  porn star angela white secretly filmed sex act...  \n",
       "2  american draws inspiration from fellow country...  \n",
       "3  world health organisation infections and death...  \n",
       "4  a sinkhole opened up at am this morning in dun...  "
      ]
     },
     "execution_count": 26,
     "metadata": {},
     "output_type": "execute_result"
    }
   ],
   "source": [
    "df.head()"
   ]
  },
  {
   "cell_type": "code",
   "execution_count": null,
   "id": "87c2aa1c-36cc-4d31-987b-377679cc9ab6",
   "metadata": {},
   "outputs": [],
   "source": []
  }
 ],
 "metadata": {
  "kernelspec": {
   "display_name": "Python 3.10.14 (tensorflow)",
   "language": "python",
   "name": "tensorflow"
  },
  "language_info": {
   "codemirror_mode": {
    "name": "ipython",
    "version": 3
   },
   "file_extension": ".py",
   "mimetype": "text/x-python",
   "name": "python",
   "nbconvert_exporter": "python",
   "pygments_lexer": "ipython3",
   "version": "3.10.13"
  }
 },
 "nbformat": 4,
 "nbformat_minor": 5
}
